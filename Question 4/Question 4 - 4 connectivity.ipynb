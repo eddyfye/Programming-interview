{
 "cells": [
  {
   "cell_type": "code",
   "execution_count": 1,
   "metadata": {},
   "outputs": [
    {
     "name": "stdout",
     "output_type": "stream",
     "text": [
      "[[0 0 0 0 1 1 0 0 0 1 0 1 0 1 1 1 0 0 1 1]\n",
      " [1 0 1 0 0 0 0 0 1 1 0 0 0 0 1 0 0 1 0 0]\n",
      " [0 1 1 1 1 1 1 0 1 0 1 0 1 0 0 0 0 0 1 0]\n",
      " [0 0 0 0 1 1 0 0 0 0 1 0 0 0 1 1 1 0 1 1]\n",
      " [1 0 0 1 0 0 0 0 0 0 1 1 1 0 1 1 1 0 1 1]\n",
      " [1 1 1 1 0 1 0 0 0 0 0 0 0 1 0 0 1 1 0 1]\n",
      " [1 1 0 0 0 0 1 0 0 0 0 1 1 0 0 0 0 1 0 1]\n",
      " [0 1 0 0 0 1 1 0 0 0 0 1 1 0 0 0 0 1 1 1]\n",
      " [0 0 1 1 1 0 0 1 0 1 0 0 1 0 0 0 1 1 1 0]\n",
      " [1 0 1 0 1 0 1 1 1 1 0 0 1 0 1 0 0 0 0 1]]\n"
     ]
    }
   ],
   "source": [
    "## Importing file as numpy array\n",
    "\n",
    "import numpy as np\n",
    "\n",
    "np_img = np.loadtxt(\"input_question_4\", dtype = int)\n",
    "\n",
    "print(np_img)\n"
   ]
  },
  {
   "cell_type": "code",
   "execution_count": 2,
   "metadata": {},
   "outputs": [
    {
     "name": "stdout",
     "output_type": "stream",
     "text": [
      "[[ 0  0  0  0  8  8  0  0  0 15  0 18  0 21 21 21  0  0 27 27]\n",
      " [ 1  0  5  0  0  0  0  0 14 15  0  0  0  0 21  0  0 26  0  0]\n",
      " [ 0  4  5  5  5  5  5  0 14  0 17  0 20  0  0  0  0  0 28  0]\n",
      " [ 0  0  0  0  5  5  0  0  0  0 17  0  0  0 23 23 23  0 28 28]\n",
      " [ 2  0  0  7  0  0  0  0  0  0 17 17 17  0 23 23 23  0 28 28]\n",
      " [ 2  2  2  7  0  9  0  0  0  0  0  0  0 22  0  0 23 23  0 28]\n",
      " [ 2  2  0  0  0  0 11  0  0  0  0 19 19  0  0  0  0 23  0 28]\n",
      " [ 0  2  0  0  0 10 11  0  0  0  0 19 19  0  0  0  0 23 23 28]\n",
      " [ 0  0  6  6  6  0  0 13  0 16  0  0 19  0  0  0 25 25 25  0]\n",
      " [ 3  0  6  0  6  0 12 13 13 16  0  0 19  0 24  0  0  0  0 29]]\n"
     ]
    }
   ],
   "source": [
    "# ============= Adding 0s around the image =============\n",
    "## To facilitate the calculations later\n",
    "\n",
    "img_row = np.size(np_img, 0)\n",
    "img_col = np.size(np_img, 1)\n",
    "\n",
    "## Adding zeroes to sides\n",
    "img_addcol = np.c_[np.zeros(img_row, dtype = int), np_img, np.zeros(img_row, dtype = int)]\n",
    "# print (img_addcol)\n",
    "\n",
    "## Adding zeroes to top and bottom\n",
    "img_padded = np.r_[[np.zeros((img_col + 2), dtype = int)], img_addcol, [np.zeros((img_col + 2), dtype = int)]]\n",
    "# print(img_padded)\n",
    "\n",
    "# img_output = np.zeros([img_row, img_col], dtype = int)\n",
    "# # print(img_output)\n",
    "\n",
    "# ============= Neighbour function =============\n",
    "## Returns neighbouring values\n",
    "## For 4-connectivity, only top and left cells are important\n",
    "def neighbour(row, col, img = img_padded):\n",
    "    top = img[row - 1, col]\n",
    "    left = img[row, col - 1]\n",
    "\n",
    "## Fitting all the neighbouring values into an array for checking later\n",
    "    neighbour_array = [top, left]\n",
    "    return neighbour_array\n",
    "\n",
    "# ============= 4-connectivity =============\n",
    "## Going through the rows first before going through the columns\n",
    "\n",
    "# Initiating connecting_label\n",
    "connecting_label = 0\n",
    "\n",
    "for col in range(1, img_col + 1):\n",
    "    for row in range(1, img_row + 1):\n",
    "\n",
    "# If value in cell is 0, contiune onwards\n",
    "        if img_padded[row, col] == [0]:\n",
    "            continue\n",
    "\n",
    "        else:\n",
    "            # First obtain the neighbouring values\n",
    "            neighbour_value = neighbour(row, col)\n",
    "            # print(neighbour_value)\n",
    "\n",
    "            # Checking top and left cells\n",
    "            # If there is no connecting cells, increase the label number and add label to img_output\n",
    "            if neighbour_value == [0, 0]:\n",
    "                connecting_label += 1\n",
    "                # print(connecting_label)\n",
    "                img_padded[row, col] = connecting_label\n",
    "\n",
    "              # If top or left cells has a label > 0, update cell to the max neighbouring value\n",
    "            else:\n",
    "                img_padded[row, col] = np.max(neighbour_value)\n",
    "\n",
    "# print(img_padded)\n",
    "\n",
    "# Removing the extra zeros\n",
    "img_output = img_padded[1: img_row+1, 1: img_col+1]\n",
    "print(img_output)\n",
    "\n",
    "img_export = np.savetxt(\"output_question_4\", img_output, fmt = '%i')\n"
   ]
  },
  {
   "cell_type": "code",
   "execution_count": null,
   "metadata": {},
   "outputs": [],
   "source": []
  }
 ],
 "metadata": {
  "kernelspec": {
   "display_name": "Python 3",
   "language": "python",
   "name": "python3"
  },
  "language_info": {
   "codemirror_mode": {
    "name": "ipython",
    "version": 3
   },
   "file_extension": ".py",
   "mimetype": "text/x-python",
   "name": "python",
   "nbconvert_exporter": "python",
   "pygments_lexer": "ipython3",
   "version": "3.7.6"
  }
 },
 "nbformat": 4,
 "nbformat_minor": 4
}
