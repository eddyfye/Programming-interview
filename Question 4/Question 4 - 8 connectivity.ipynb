{
 "cells": [
  {
   "cell_type": "code",
   "execution_count": 5,
   "metadata": {},
   "outputs": [
    {
     "name": "stdout",
     "output_type": "stream",
     "text": [
      "[[0 0 1 1]\n",
      " [1 1 0 0]\n",
      " [0 0 0 0]\n",
      " [0 1 1 0]\n",
      " [0 1 1 1]]\n"
     ]
    }
   ],
   "source": [
    "## Importing file as numpy array\n",
    "\n",
    "import numpy as np\n",
    "\n",
    "np_img = np.loadtxt(\"input_question_4.txt\", dtype = int)\n",
    "\n",
    "print(np_img)\n"
   ]
  },
  {
   "cell_type": "code",
   "execution_count": 9,
   "metadata": {},
   "outputs": [
    {
     "name": "stdout",
     "output_type": "stream",
     "text": [
      "[[0 0 1 1]\n",
      " [1 1 0 0]\n",
      " [0 0 0 0]\n",
      " [0 2 2 0]\n",
      " [0 2 2 2]]\n"
     ]
    }
   ],
   "source": [
    "# ============= Adding 0s around the image =============\n",
    "## To facilitate the calculations later\n",
    "\n",
    "img_row = np.size(np_img, 0)\n",
    "img_col = np.size(np_img, 1)\n",
    "\n",
    "## Adding zeroes to sides\n",
    "img_addcol = np.c_[np.zeros(img_row, dtype = int), np_img, np.zeros(img_row, dtype = int)]\n",
    "# print (img_addcol)\n",
    "\n",
    "## Adding zeroes to top and bottom\n",
    "img_padded = np.r_[[np.zeros((img_col + 2), dtype = int)], img_addcol, [np.zeros((img_col + 2), dtype = int)]]\n",
    "# print(img_padded)\n",
    "\n",
    "# img_output = np.zeros([img_row, img_col], dtype = int)\n",
    "# # print(img_output)\n",
    "\n",
    "# ============= Neighbour function =============\n",
    "## Returns the positions of neighbouring values\n",
    "## For 4-connectivity, only top and left cells are important\n",
    "def neighbour(row, col, img = img_padded):\n",
    "    top_left = img[row - 1, col - 1]\n",
    "    top = img[row - 1, col]\n",
    "    left = img[row, col - 1]\n",
    "    bottom_left = img[row + 1, col - 1]\n",
    "\n",
    "## Fitting all the neighbouring values into an array for checking later\n",
    "    neighbour_array = [top_left, top, left, bottom_left]\n",
    "    return neighbour_array\n",
    "\n",
    "# ============= 4-connectivity =============\n",
    "## Going through the rows first before going through the columns\n",
    "\n",
    "# Initiating connecting_label\n",
    "connecting_label = 0\n",
    "\n",
    "for col in range(1, img_col + 1):\n",
    "    for row in range(1, img_row + 1):\n",
    "\n",
    "# If value in cell is 0, contiune onwards\n",
    "        if img_padded[row, col] == [0]:\n",
    "          continue\n",
    "\n",
    "        else:\n",
    "          # First obtain the neighbouring values\n",
    "            neighbour_value = neighbour(row, col)\n",
    "          # print(neighbour_value)\n",
    "\n",
    "          # Checking top and left cells\n",
    "          # If there is no connecting cells, increase the label number and add label to img_output\n",
    "            if neighbour_value == [0, 0, 0, 0]:\n",
    "                connecting_label += 1\n",
    "            # print(connecting_label)\n",
    "                img_padded[row, col] = connecting_label\n",
    "\n",
    "            # If top or left cells has a label > 0, update cell to the max neighbouring value\n",
    "            else:\n",
    "                img_padded[row, col] = np.max(neighbour_value)\n",
    "\n",
    "    # print(img_padded)\n",
    "\n",
    "# Removing the extra zeros\n",
    "img_output = img_padded[1: img_row+1, 1: img_col+1]\n",
    "print(img_output)\n",
    "\n",
    "img_export = np.savetxt(\"output_question_4.txt\", img_output, fmt = '%i')\n"
   ]
  },
  {
   "cell_type": "code",
   "execution_count": null,
   "metadata": {},
   "outputs": [],
   "source": []
  }
 ],
 "metadata": {
  "kernelspec": {
   "display_name": "Python 3",
   "language": "python",
   "name": "python3"
  },
  "language_info": {
   "codemirror_mode": {
    "name": "ipython",
    "version": 3
   },
   "file_extension": ".py",
   "mimetype": "text/x-python",
   "name": "python",
   "nbconvert_exporter": "python",
   "pygments_lexer": "ipython3",
   "version": "3.7.6"
  }
 },
 "nbformat": 4,
 "nbformat_minor": 4
}
