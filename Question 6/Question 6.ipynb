{
 "cells": [
  {
   "cell_type": "code",
   "execution_count": 1,
   "metadata": {
    "scrolled": false
   },
   "outputs": [
    {
     "name": "stdout",
     "output_type": "stream",
     "text": [
      "[[ 4  3]\n",
      " [ 2  6]\n",
      " [ 3 12]\n",
      " [ 2 17]\n",
      " [ 5 20]\n",
      " [ 9 21]\n",
      " [14 19]\n",
      " [20 14]\n",
      " [18  3]\n",
      " [11  7]]\n",
      "[[ 7 11]\n",
      " [10 14]\n",
      " [11  4]\n",
      " [12 21]\n",
      " [16  3]\n",
      " [16 10]\n",
      " [17  4]\n",
      " [18  7]\n",
      " [18 17]\n",
      " [20  7]]\n"
     ]
    }
   ],
   "source": [
    "# ============= Importing data =============\n",
    "# Importing data as numpy arrays\n",
    "\n",
    "import numpy as np\n",
    "\n",
    "coordinates_input = np.loadtxt(\"input_question_6_polygon\", dtype = int)\n",
    "\n",
    "print(coordinates_input)\n",
    "\n",
    "points_input = np.loadtxt(\"input_question_6_points\", dtype = int)\n",
    "\n",
    "print(points_input)"
   ]
  },
  {
   "cell_type": "code",
   "execution_count": 3,
   "metadata": {},
   "outputs": [
    {
     "name": "stdout",
     "output_type": "stream",
     "text": [
      "[['7' '11' 'inside']\n",
      " ['10' '14' 'inside']\n",
      " ['11' '4' 'outside']\n",
      " ['12' '21' 'outside']\n",
      " ['16' '3' 'outside']\n",
      " ['16' '10' 'inside']\n",
      " ['17' '4' 'inside']\n",
      " ['18' '7' 'inside']\n",
      " ['18' '17' 'outside']\n",
      " ['20' '7' 'outside']]\n"
     ]
    }
   ],
   "source": [
    "from shapely.geometry import Point, Polygon, LineString, MultiLineString\n",
    "\n",
    "# ============= Creating the polygon and border =============\n",
    "## Used to determine if points are located within or outside the polygon\n",
    "# Borders have to be determined to find points that intersections/on the border\n",
    "\n",
    "# Polygon can be directly created with Polygon function from shapely\n",
    "poly = Polygon(coordinates_input)\n",
    "\n",
    "# For borders, we need to first code for all the lines\n",
    "# Inititates the array for coord_line\n",
    "coord_line = []\n",
    "\n",
    "# Generates lines by going through each line in coordinates_input and put them in pairs for LineString\n",
    "for i in range(len(coordinates_input)):\n",
    "    new_coord_1 = coordinates_input[i]\n",
    "    if i < len(coordinates_input) -1:\n",
    "        new_coord_2 = coordinates_input[i + 1]\n",
    "    else:\n",
    "        # loops back to starting point to close the loop\n",
    "        new_coord_2 = coordinates_input[0]\n",
    "    coord_line.append(LineString([new_coord_1, new_coord_2]))\n",
    "#     print(coord_line)\n",
    "\n",
    "# Putting all lines to generate a border\n",
    "border = MultiLineString(coord_line)\n",
    "\n",
    "# ============= Creating Points =============\n",
    "## Goes through each line and converts them to Point for evaluation\n",
    "\n",
    "# Initiate empty points_TFoutput\n",
    "points_TFoutput = []\n",
    "for i in range(len(points_input)):\n",
    "    points_temp = Point(points_input[i])\n",
    "    points_TFoutput.append(points_temp)\n",
    "# print(points_TFoutput)\n",
    "\n",
    "# Adding a column for string value to each row\n",
    "points_output = np.c_[points_input, np.zeros(np.size(points_input, 0), dtype = str)]\n",
    "# print(points_output)\n",
    "\n",
    "# ============= Evaluation =============\n",
    "## Goes through each Point and see if they are within the polygon or intersecting the border\n",
    "\n",
    "for i in range(len(points_TFoutput)):\n",
    "    points_temp_1 = points_TFoutput[i].within(poly) or points_TFoutput[i].intersects(border)\n",
    "#     print(points_temp_1)\n",
    "# If value is true, change the string in the last column\n",
    "    if points_temp_1 is True:\n",
    "        points_output[i][2] = 'inside'\n",
    "    else:\n",
    "        points_output[i][2] = 'outside'\n",
    "print(points_output)\n",
    "\n",
    "export = np.savetxt(\"output_question_6\", points_output, fmt = '%s')\n"
   ]
  },
  {
   "cell_type": "code",
   "execution_count": 6,
   "metadata": {},
   "outputs": [
    {
     "name": "stdout",
     "output_type": "stream",
     "text": [
      "POLYGON ((1 5, 10 5, 10 1, 1 1, 1 5))\n",
      "True\n",
      "True\n",
      "False\n"
     ]
    }
   ],
   "source": [
    "## Works for example\n",
    "\n",
    "from shapely.geometry import Point, Polygon, LineString, MultiLineString\n",
    "\n",
    "# Create coordinates for polygon\n",
    "\n",
    "coordinates = [(1, 5), (10, 5), (10, 1), (1, 1)]\n",
    "poly = Polygon(coordinates)\n",
    "\n",
    "\n",
    "line_1 = LineString([(1, 5), (10, 5)])\n",
    "line_2 = LineString([(10, 5), (10, 1)])\n",
    "line_3 = LineString([(10, 1), (1, 1)])\n",
    "line_4 = LineString([(1, 1), (1, 5)])\n",
    "\n",
    "border = MultiLineString([line_1, line_2, line_3, line_4])\n",
    "\n",
    "\n",
    "p1 = Point(3, 3) \n",
    "p2 = Point(7, 5)\n",
    "p3 = Point(5, 6)\n",
    "\n",
    "\n",
    "print(p1.within(poly) or p1.intersects(border))\n",
    "print(p2.within(poly) or p2.intersects(border))\n",
    "print(p3.within(poly) or p3.intersects(border))"
   ]
  },
  {
   "cell_type": "code",
   "execution_count": null,
   "metadata": {},
   "outputs": [],
   "source": []
  }
 ],
 "metadata": {
  "kernelspec": {
   "display_name": "Python 3",
   "language": "python",
   "name": "python3"
  },
  "language_info": {
   "codemirror_mode": {
    "name": "ipython",
    "version": 3
   },
   "file_extension": ".py",
   "mimetype": "text/x-python",
   "name": "python",
   "nbconvert_exporter": "python",
   "pygments_lexer": "ipython3",
   "version": "3.7.6"
  }
 },
 "nbformat": 4,
 "nbformat_minor": 4
}
